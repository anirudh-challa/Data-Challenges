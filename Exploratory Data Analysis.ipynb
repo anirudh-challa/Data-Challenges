{
 "cells": [
  {
   "cell_type": "markdown",
   "metadata": {},
   "source": [
    "# Analysis of Device Data\n",
    "## Dataset Characteristics\n",
    "This dataset has 1.95M instances and 51 attributes. The instances correspond to 822 sites, which we interpret as 822 distinct ATM machines for which failure predictions are necessary.\n",
    "\n",
    "We found that not all instances have values for all 51 attributes: only 50K of the 1.95M instances have complete data, and none of these instances correspond to a failure. Frequently missing attributes generally apply to machine configuration or the status of machine subcomponents. In the vast majority of records, only 22 attributes are reliably present. We categorized these attributes into three  classes -- event timing, location, and machine status. We summarize the attributes below:\n",
    "* ***timing:*** Event Date, entry_dt, identifier\n",
    "* ***location:*** Site ID, Site Type, Cluster, State, Region, City, Location Type, TakeOver, Site Class\n",
    "* ***machine status:*** Status, SwitchResionID, Source Channel, Device Type, Status Type, isTickect2, calculated_one, failed_in_24, Tech Date, Cash Date\n",
    "\n",
    "We have focused on machine status features in our analysis. Many of the technical specifications of these attributes are not well-documented. We concentrate on the attributes 'SwitchResionID' and 'Source Channel', which can be combined to determine a human-readable machine status message as well as provide some insight into the machine state. The 'calculated_one' attribute is used as an indicator of an error condition, and this flag is set for approximately 14K rows in the dataset. The 'failed_in_24' attribute is used as an indicator of an event which occurs in the 24-hour window preceding an error condition.\n",
    "\n",
    "Using these attributes, we sketch our analysis which we present in greater detail below. First, we determine which machine statuses are the most frequent and reliable indicators of machine failure. Focusing on these failure cases, we investigate the events preceding each type of failure and motivate common failure trajectories seen in the dataset. We define a 'danger level' for each status code by binning the statuses by failure probability. Next, we mine frequent patterns in the 24 hours preceding a failure to find reliable patterns of machine activity that may provide early indicators of machine failure. Finally, we sketch a proposal for a simple hidden Markov model that could be used to provide a more refined characterization of the probability of a machine failure."
   ]
  },
  {
   "cell_type": "markdown",
   "metadata": {},
   "source": [
    "## Common Failure Cases\n",
    "Henceforth, we refer to the pair of attributes (SwitchResionID, Source Channel) as a *status code* and for brevity refer to status codes by the SwitchResionID in the text. These status codes correspond to normal operation or an error state -- no status code is observed in both normal operation and error states. For clarity, we refer to a status code indicated an error state as an error code, and there are 35 such error codes in the dataset. We begin by analyzing the top error codes in the 13,795 failures seen in the dataset. \n",
    "\n",
    "At a high-level, the prominent failures correspond to two types of failures. The first type of failure results from errors related to the Dispenser or Cash Distributor (error codes 9016, 2311, 1026) and are associated with 7329 (53%) of the errors in the dataset. The second common type of failure results from issues with the card reader (error codes 1017, 2225, 2225, 2249, 1059, 1057) and account for 4115 (30%) of the errors. The histogram below provides an overview of the error frequencies of each status, as well as error frequencies for less frequent conditions ('Other')\n"
   ]
  },
  {
   "cell_type": "markdown",
   "metadata": {},
   "source": [
    "## Clustering ATM Status Codes\n",
    "We can extend our analysis by considering not only the status codes indicating errors, but also include status codes that occur soon before a failure. Perhaps the simplest metric is the probability that a particular status code is obsedved in the 24-hour window preceding a failure, or $P({\\tt StatusCode}|{\\tt Failure})$. We generate this metrics for status codes and find a set of status codes that have high overlap with the error codes previously identified.\n",
    "\n",
    "One drawback of the simple failure probability metric is that it does not adequately account for status codes that occur frequently even in settings that do not indicate failure. A better metric is quantifying the log-odds ratio of the failure and non-failure settings. We formally define this quantity below. To simplify the computation, we demonstrate that this quantity is proportional to the joint probability multiplied by a constant. We omit the constant factor use this simpler, equivalent metric in our analysis.\n",
    "$$\\mbox{log}\\frac{P({\\tt StatusCode}|{\\tt Failure})}{P({\\tt StatusCode}|{\\tt Normal})} = \\mbox{log}\\frac{P({\\tt StatusCode}\\cap{\\tt Failure})}{P({\\tt StatusCode}\\cap{\\tt Normal})} \\cdot \\frac{P({\\tt Normal})}{P({\\tt Failure})}$$ \n",
    "\n",
    "After computing the log probability of the ratio of failure to normal events, we generate a histogram of the status codes, seen below. Since the log value of non-failing status codes is negative infinity, we perform smoothing by assigning each status code a small probability of both success and failure. We observe data divides into roughly three clusters. The first cluster, corresponding to the codes in the interval (-15,-5) contains status codes that very rarely occur in the 24-hours prior to a failure. The second cluster, in the interval (-5,5) consists of status codes that occur in approximately even proportions in the failure and normal cases, and have low predictive power. Finally, the set of bars that have a log probability ratio greater than 5 and include 52 status codes occur substantially more frequently in failure cases than in normal operation. These status codes include the 35 error codes as well as other status codes that seem correlated with failure, for example status 2053 with log-odds ratio 7.959 and indicating the status 'Journal Backup and Reprint terminated.' Code to generate a complete list of predictive status codes is included in the appendix."
   ]
  },
  {
   "cell_type": "markdown",
   "metadata": {},
   "source": [
    "## Failure Trajectories\n",
    "Identifying status codes that are highly correlated with failures is a first step to understanding failures, however a deeper question is why these failures occur. To provide a more detailed analysis of the failures, we generate *failure trajectories*. The most basic failure trajectory is determining the most probable events preceding a failure. \n",
    "\n",
    "We first construct a transition table to record the transitions between status codes in the dataset. We specify a time window of fifteen minutes, and only consider consecutive events that occur within this time window when recording transitions. Using this transition table, we are able to find the probability of the events preceding each failure status.  \n",
    "\n",
    "To provide an example of the value of this analytical approach, we consider the predecessor events for errors related to the dispenser. These errors correspond to codes 9016, 2311, and 1026. One interesting observation is that even though these errors target share a common failure point, their causes differ. \n",
    "Looking at the most probable previous statuses for error code 9016 (Dispenser Fatal), we found that the highest value is code 9016 -- a machine will repeat this same error code with a delay of 10-15 seconds multiple times. Beyond this error repetition, the most common preceding status is 594, indicating a message to go out of service was received. \n",
    "For error code 2311 (Cash distributor has fatal problem), the most common cause is status 2215, indicating no notes were dispensed. \n",
    "Error 1026 has the opposite symptom (Too many notes dispensed), and the common predecessors are 'Cassette 1 warning' and 'Bill sensors not blocked by money stack'.\n",
    "\n",
    "We provide code in the appendix to enable this type of analyis for all error codes (as well as other status codes)\n"
   ]
  },
  {
   "cell_type": "markdown",
   "metadata": {},
   "source": [
    "## Frequent Patterns Found Prior to Failure\n",
    "Understanding the events leading to failures allows us to determine the proximal causes for those failures. A deeper analysis can also identify more complex patterns that occur before the failure. Our analysis seeks to find the most frequent patterns occuring in the 24 hours preceding a failure. Each pattern consists of a series of observed status codes. By investigating these sequences of status codes, we can find more general patterns of events that are correlated with failures. \n",
    "\n",
    "Our code supports arbitrary pattern lengths, but considering patterns of five events, we find that there are some salient sequences. First, occurring 1582 times, we see sequences where the error code 9016 (Dispenser Fatal) occurs repeatedly. Next, we see 1036 patterns where of sequence 2111, 2137, 2110, 594, 509 which corresponds to a pattern where the sensors mode is switched to supervisory mode and the machine subsequently goes out of service. A third common pattern found that occurs in differing forms over 1500 times is one involving codes 151, 150, 510, 594, and 509. This corresponds to a lost connection to the ATM, and upon restoring connectivity the ATM reports an error condition, in response to which the ATM is placed out of service. More frequently, the connectivity is lost but the ATM does not report an error and returns to service.\n",
    "\n"
   ]
  },
  {
   "cell_type": "markdown",
   "metadata": {},
   "source": [
    "## Training a Hidden Markov Model to Predict Failure States\n",
    "Ultimately, the goal of analyzing this dataset is to build a model that can predict the severity of a machine's state and allow for preventive action to prevent failure. One proposed approach to this problem is to capture these differing levels of severity as a latent variable or hidden state of each machine. The sequence of observed events, in the form of machine status codes, allows us to update our beliefs of each machine's state, and correspondingly assess the likelihood of failure. \n",
    "\n",
    "Using the building blocks from the previous section, we can build a hidden Markov model for this dataset that implements these modeling goals. The model would be constructed with four hidden states, corresponding to low, moderate, high, and severe failure risks. The probability of each event (status code) would differ for each of these states, and be estimated from the data. Observing a new event would potentially trigger a transition between machine states, and after each event the model can provide a probability of each possible machine state.  The preceding sections, which implemented conditional probability estimates of status codes by state and transition probabilities between status codes, provide the building blocks for constructing such a hidden Markov model.\n"
   ]
  },
  {
   "cell_type": "markdown",
   "metadata": {},
   "source": [
    "## Appendix\n",
    "The last code block in this section sets up the dataset Each code block below is labeled based on the section in the report it corresponds to."
   ]
  },
  {
   "cell_type": "markdown",
   "metadata": {},
   "source": [
    "### Dataset Characteristics"
   ]
  },
  {
   "cell_type": "code",
   "execution_count": 2,
   "metadata": {
    "collapsed": false
   },
   "outputs": [
    {
     "name": "stdout",
     "output_type": "stream",
     "text": [
      "There are 1956767 instances and 51 attributes\n",
      "\n",
      "The instances are distributed over 822 unique Site IDs\n",
      "\n",
      "The attribute names are:  ['identifier' 'entry_dt' 'Site ID' 'Event Date' 'SwitchResionID'\n",
      " 'Reserved_3' 'Card Reader Fitness' 'Purge Cassette Supply'\n",
      " 'Encryptor Unit Fitness' 'Cassette1 Supply' 'Cassette2 Supply'\n",
      " 'Cassette3 Supply' 'Cassette4 Supply' 'Deposit Fitness'\n",
      " 'Merchant Diposit Fitness' 'Envelope Distributor Fitness'\n",
      " 'Coin Distributor Fitness' 'Receipt printer Fitness' 'Log Printer Fitness'\n",
      " 'A4 Printer Fitness' 'Passbook Printer Fitness' 'DPM Fitness'\n",
      " 'BNA Device Fitness' 'BNA Supply' 'CHEQUE Scanner Fitness'\n",
      " 'CHEQUE Scanner Supply' 'Voice Module Fitness' 'Camera Fitness'\n",
      " 'Journal Paper Supply' 'Journal Ribbon Supply' 'Receipt Paper Supply'\n",
      " 'Receipt Ribbon Supply' 'A4 Paper Supply' 'Site Type' 'Cluster' 'State'\n",
      " 'Region' 'City' 'Location type' 'TakeOver' 'Status' 'Tech Date'\n",
      " 'Cash Date' 'Site Class' 'Source Channel' 'Device Type' 'Status Type'\n",
      " 'isTickect2' 'Machine Status' 'calculated_one' 'failed_in_24']\n",
      "\n",
      "Dropping instances with incomplete data, we are left with 50186 instances\n",
      "\n",
      "29 attributes have null values\n",
      "\n",
      "Dropping attributes that have null values, we are left with 22 attributes\n",
      "\n",
      "There are 13795 events corresponding to failures and 349369 events in a 24-hour window preceding a failure\n"
     ]
    }
   ],
   "source": [
    "# Data size\n",
    "print 'There are %d instances and %d attributes\\n' % atm.shape\n",
    "\n",
    "#Number of ATMs\n",
    "print 'The instances are distributed over %d unique Site IDs\\n' % (atm['Site ID'].unique().size)\n",
    "\n",
    "#Column names\n",
    "print 'The attribute names are: ',atm.columns.values\n",
    "\n",
    "#Instances with complete data:\n",
    "print '\\nDropping instances with incomplete data, we are left with %d instances\\n' % (atm.dropna().shape[0])\n",
    "\n",
    "#Attributes with incomplete data\n",
    "print '%d attributes have null values\\n' % atm.isnull().any()[atm.isnull().any()==True].index.size\n",
    "\n",
    "#Columns without null values\n",
    "print 'Dropping attributes that have null values, we are left with %d attributes\\n' %\\\n",
    "    (atm.dropna(axis=1,how='any').shape[1])\n",
    "\n",
    "#Number of failures:\n",
    "print 'There are %d events corresponding to failures and %d events in a 24-hour window preceding a failure' %\\\n",
    "     (atm[atm['calculated_one']==1].shape[0],atm[atm['failed_in_24']==1].shape[0])"
   ]
  },
  {
   "cell_type": "code",
   "execution_count": 3,
   "metadata": {
    "collapsed": false
   },
   "outputs": [
    {
     "name": "stdout",
     "output_type": "stream",
     "text": [
      "identifier 1956767\n",
      "entry_dt 53\n",
      "Site ID 822\n",
      "Event Date 708032\n",
      "SwitchResionID 177\n",
      "Site Type ['Onsite' 'Offsite as Onsite' 'Offsite' 'Within Branch']\n",
      "Cluster ['Karnataka & Goa' 'Rajasthan' 'Gujrat  Diu  Daman & DDR'\n",
      " 'Odisha & Chattisgarh']\n",
      "State ['Karnataka' 'Rajasthan' 'Gujarat' 'Odisha' 'Chhattisgarh' 'Goa']\n",
      "Region 105\n",
      "City 406\n",
      "Location type ['Urban' 'Rural' 'Semi Urban']\n",
      "TakeOver ['Takeover > 7 yr' 'New']\n",
      "Status ['Cash Live']\n",
      "Tech Date 341\n",
      "Cash Date 343\n",
      "Site Class ['Silver Plus' 'Gold' 'Bronze' 'Platinum' 'Silver']\n",
      "Source Channel ['OPUSV1_DDC' 'FSSV1_NDC' 'OPUSV1_NDC' 'FISV1_DDC' 'FISV1_NDC']\n",
      "Device Type 18\n",
      "Status Type [1 0]\n",
      "isTickect2 [1 0]\n",
      "calculated_one [0 1]\n",
      "failed_in_24 [0 1]\n"
     ]
    }
   ],
   "source": [
    "#Find the distinct values for categorical attributes\n",
    "for col in atm.dropna(axis=1,how='any').columns: #atm.columns:\n",
    "    if atm[col].unique().size < 10:\n",
    "        print col, atm[col].unique()\n",
    "    else: \n",
    "        print col, atm[col].unique().size"
   ]
  },
  {
   "cell_type": "markdown",
   "metadata": {},
   "source": [
    "### Common Failure Cases"
   ]
  },
  {
   "cell_type": "code",
   "execution_count": 4,
   "metadata": {
    "collapsed": false
   },
   "outputs": [
    {
     "name": "stdout",
     "output_type": "stream",
     "text": [
      "status (9016, 'OPUSV1_DDC') has  4669 associated failures and corresponds to status:\n",
      "\t Dispenser Fatal\n",
      "status (2311, 'OPUSV1_NDC') has  2356 associated failures and corresponds to status:\n",
      "\t Cash distributor has fatal problem\n",
      "status (1017, 'FISV1_DDC')  has  1374 associated failures and corresponds to status:\n",
      "\t CARD READER WARNING\n",
      "status (2225, 'OPUSV1_NDC') has  1227 associated failures and corresponds to status:\n",
      "\t Card ReaderWriter Read error\n",
      "status (2249, 'OPUSV1_NDC') has   797 associated failures and corresponds to status:\n",
      "\t Card ReaderWriter Received unknown Mstatus\n",
      "status (1059, 'OPUSV1_DDC') has   389 associated failures and corresponds to status:\n",
      "\t Card is jammed on the read head\n",
      "status (1057, 'OPUSV1_DDC') has   328 associated failures and corresponds to status:\n",
      "\t Track 123 read error\n",
      "status (1026, 'FISV1_NDC')  has   304 associated failures and corresponds to status:\n",
      "\t CASSETTE 1  WARNING\n",
      "status (1026, 'OPUSV1_DDC') has   304 associated failures and corresponds to status:\n",
      "\t Too many bills dispensed\n",
      "status (2184, 'OPUSV1_NDC') has   285 associated failures and corresponds to status:\n",
      "\t CashHandler Operation not attemptd as previous Operation was fatal\n",
      "status (2177, 'OPUSV1_NDC') has   284 associated failures and corresponds to status:\n",
      "\t CashHandler Pick failure\n",
      "status (2186, 'OPUSV1_NDC') has   230 associated failures and corresponds to status:\n",
      "\t CashHandler Presenter failurejam\n",
      "status (2216, 'OPUSV1_NDC') has   196 associated failures and corresponds to status:\n",
      "\t CashHandler Faulty dispense\n",
      "status (2192, 'OPUSV1_NDC') has   182 associated failures and corresponds to status:\n",
      "\t CashHandler Bills not seen at Exit Sensor\n",
      "status (2307, 'OPUSV1_NDC') has   119 associated failures and corresponds to status:\n",
      "\t Card reader has fatal problem\n",
      "status (2179, 'OPUSV1_NDC') has   117 associated failures and corresponds to status:\n",
      "\t CashHandler Sensor failed, Currency jam\n",
      "status (1019, 'OPUSV1_DDC') has   107 associated failures and corresponds to status:\n",
      "\t Denomination error\n",
      "status (1034, 'OPUSV1_DDC') has    83 associated failures and corresponds to status:\n",
      "\t Dispense timeout\n",
      "status (1031, 'OPUSV1_DDC') has    70 associated failures and corresponds to status:\n",
      "\t Cassettes shuffled\n",
      "status (1018, 'OPUSV1_DDC') has    67 associated failures and corresponds to status:\n",
      "\t Jam before doubledetect switch from cassette\n"
     ]
    }
   ],
   "source": [
    "#compute the most common failures\n",
    "for r in atm[atm['calculated_one']==1].groupby(by=('SwitchResionID','Source Channel')).\\\n",
    "            size().sort_values(ascending=False).head(20).iteritems():\n",
    "    print 'status {0:20s} has {1:5d} associated failures and corresponds to status:\\n\\t {2}'.\\\n",
    "        format(r[0],r[1],reasons_table.loc[r[0][0],r[0][1]])"
   ]
  },
  {
   "cell_type": "code",
   "execution_count": 5,
   "metadata": {
    "collapsed": false
   },
   "outputs": [
    {
     "name": "stdout",
     "output_type": "stream",
     "text": [
      "SwitchResionID  Source Channel\n",
      "2193            OPUSV1_NDC        1\n",
      "1019            OPUSV1_DDC        1\n",
      "1026            FISV1_NDC         1\n",
      "                OPUSV1_DDC        1\n",
      "1027            FISV1_NDC         1\n",
      "2310            OPUSV1_NDC        1\n",
      "2307            OPUSV1_NDC        1\n",
      "1027            OPUSV1_DDC        1\n",
      "1028            FISV1_NDC         1\n",
      "                OPUSV1_DDC        1\n",
      "1031            OPUSV1_DDC        1\n",
      "1034            OPUSV1_DDC        1\n",
      "1057            OPUSV1_DDC        1\n",
      "2249            OPUSV1_NDC        1\n",
      "1058            OPUSV1_DDC        1\n",
      "2225            OPUSV1_NDC        1\n",
      "2216            OPUSV1_NDC        1\n",
      "1059            OPUSV1_DDC        1\n",
      "2198            OPUSV1_NDC        1\n",
      "2192            OPUSV1_NDC        1\n",
      "2190            OPUSV1_NDC        1\n",
      "2186            OPUSV1_NDC        1\n",
      "2185            OPUSV1_NDC        1\n",
      "2184            OPUSV1_NDC        1\n",
      "2179            OPUSV1_NDC        1\n",
      "2177            OPUSV1_NDC        1\n",
      "2176            OPUSV1_NDC        1\n",
      "1021            OPUSV1_DDC        1\n",
      "2311            OPUSV1_NDC        1\n",
      "9016            OPUSV1_DDC        1\n",
      "1018            OPUSV1_DDC        1\n",
      "                FISV1_DDC         1\n",
      "1017            FISV1_DDC         1\n",
      "1015            OPUSV1_DDC        1\n",
      "                FISV1_DDC         1\n",
      "1126            OPUSV1_DDC        0\n",
      "Name: 1, dtype: float64\n"
     ]
    }
   ],
   "source": [
    "#Compute failure probability for each status code\n",
    "print (atm.groupby(by=('SwitchResionID','Source Channel'))['calculated_one'].\\\n",
    "    value_counts(normalize=True).unstack().fillna(0)).loc[:,1].sort_values(ascending=False).head(36)"
   ]
  },
  {
   "cell_type": "code",
   "execution_count": 6,
   "metadata": {
    "collapsed": true
   },
   "outputs": [],
   "source": [
    "top_failures = atm[atm['calculated_one']==1].\\\n",
    "    groupby(by=('SwitchResionID','Source Channel')).\\\n",
    "    size().sort_values(ascending=False).head(20)"
   ]
  },
  {
   "cell_type": "code",
   "execution_count": 7,
   "metadata": {
    "collapsed": false
   },
   "outputs": [
    {
     "name": "stdout",
     "output_type": "stream",
     "text": [
      "status (9016, 'OPUSV1_DDC') has  4669 associated failures with message:\n",
      "\t Dispenser Fatal\n",
      "status (2311, 'OPUSV1_NDC') has  2356 associated failures with message:\n",
      "\t Cash distributor has fatal problem\n",
      "status (1017, 'FISV1_DDC')  has  1374 associated failures with message:\n",
      "\t CARD READER WARNING\n",
      "status (2225, 'OPUSV1_NDC') has  1227 associated failures with message:\n",
      "\t Card ReaderWriter Read error\n",
      "status (2249, 'OPUSV1_NDC') has   797 associated failures with message:\n",
      "\t Card ReaderWriter Received unknown Mstatus\n",
      "status (1059, 'OPUSV1_DDC') has   389 associated failures with message:\n",
      "\t Card is jammed on the read head\n",
      "status (1057, 'OPUSV1_DDC') has   328 associated failures with message:\n",
      "\t Track 123 read error\n",
      "status (1026, 'FISV1_NDC')  has   304 associated failures with message:\n",
      "\t CASSETTE 1  WARNING\n",
      "status (1026, 'OPUSV1_DDC') has   304 associated failures with message:\n",
      "\t Too many bills dispensed\n",
      "status (2184, 'OPUSV1_NDC') has   285 associated failures with message:\n",
      "\t CashHandler Operation not attemptd as previous Operation was fatal\n",
      "status (2177, 'OPUSV1_NDC') has   284 associated failures with message:\n",
      "\t CashHandler Pick failure\n",
      "status (2186, 'OPUSV1_NDC') has   230 associated failures with message:\n",
      "\t CashHandler Presenter failurejam\n",
      "status (2216, 'OPUSV1_NDC') has   196 associated failures with message:\n",
      "\t CashHandler Faulty dispense\n",
      "status (2192, 'OPUSV1_NDC') has   182 associated failures with message:\n",
      "\t CashHandler Bills not seen at Exit Sensor\n",
      "status (2307, 'OPUSV1_NDC') has   119 associated failures with message:\n",
      "\t Card reader has fatal problem\n",
      "status (2179, 'OPUSV1_NDC') has   117 associated failures with message:\n",
      "\t CashHandler Sensor failed, Currency jam\n",
      "status (1019, 'OPUSV1_DDC') has   107 associated failures with message:\n",
      "\t Denomination error\n",
      "status (1034, 'OPUSV1_DDC') has    83 associated failures with message:\n",
      "\t Dispense timeout\n",
      "status (1031, 'OPUSV1_DDC') has    70 associated failures with message:\n",
      "\t Cassettes shuffled\n",
      "status (1018, 'OPUSV1_DDC') has    67 associated failures with message:\n",
      "\t Jam before doubledetect switch from cassette\n"
     ]
    }
   ],
   "source": [
    "for r in top_failures.iteritems():\n",
    "    print 'status {0:20s} has {1:5d} associated failures\\\n",
    " with message:\\n\\t {2}'.\\\n",
    "    format(r[0],r[1],reasons_table.loc[r[0][0],r[0][1]])"
   ]
  },
  {
   "cell_type": "code",
   "execution_count": 8,
   "metadata": {
    "collapsed": false
   },
   "outputs": [
    {
     "data": {
      "text/plain": [
       "<matplotlib.legend.Legend at 0x13d3ae090>"
      ]
     },
     "execution_count": 8,
     "metadata": {},
     "output_type": "execute_result"
    },
    {
     "data": {
      "image/png": "[encoded data removed]",
      "text/plain": [
       "<matplotlib.figure.Figure at 0x10411a290>"
      ]
     },
     "metadata": {},
     "output_type": "display_data"
    }
   ],
   "source": [
    "axes = top_failures.plot(kind='bar', color='rrgggggbrbbbrbgbbrbb')\n",
    "plt.title('Histogram of the most frequent error statuses')\n",
    "llabels = axes.get_legend_handles_labels()\n",
    "llabels[0][0][0].set_label('Dispenser')\n",
    "llabels[0][0][2].set_label('Reader')\n",
    "llabels[0][0][7].set_label('Other')\n",
    "plt.legend(labels=['Dispenser','Reader','Other'])"
   ]
  },
  {
   "cell_type": "markdown",
   "metadata": {},
   "source": [
    "### Clustering ATM Status Codes"
   ]
  },
  {
   "cell_type": "code",
   "execution_count": 9,
   "metadata": {
    "collapsed": false
   },
   "outputs": [
    {
     "name": "stdout",
     "output_type": "stream",
     "text": [
      "failed_in_24                          0         1\n",
      "SwitchResionID Source Channel                    \n",
      "150            OPUSV1_DDC      0.889611  0.110389\n",
      "151            OPUSV1_DDC      0.890977  0.109023\n",
      "508            OPUSV1_DDC      0.887165  0.112835\n",
      "509            OPUSV1_DDC      0.838901  0.161099\n",
      "510            OPUSV1_DDC      0.839616  0.160384\n",
      "594            OPUSV1_DDC      0.835039  0.164961\n",
      "595            OPUSV1_DDC      0.837837  0.162163\n",
      "1011           FISV1_DDC       0.702273  0.297727\n",
      "               FISV1_NDC       0.702273  0.297727\n",
      "               OPUSV1_DDC      0.702273  0.297727\n",
      "1012           FISV1_DDC       0.976744  0.023256\n",
      "               OPUSV1_DDC      0.976744  0.023256\n",
      "1013           FISV1_DDC       0.163522  0.836478\n",
      "               FISV1_NDC       0.163522  0.836478\n",
      "               OPUSV1_DDC      0.163522  0.836478\n",
      "1014           FISV1_DDC       0.004219  0.995781\n",
      "               FISV1_NDC       0.004219  0.995781\n",
      "               OPUSV1_DDC      0.004219  0.995781\n",
      "1015           FISV1_DDC       0.000000  1.000000\n",
      "               OPUSV1_DDC      0.000000  1.000000\n",
      "1017           FISV1_DDC       0.000000  1.000000\n",
      "               OPUSV1_DDC      0.000000  1.000000\n",
      "1018           FISV1_DDC       0.000000  1.000000\n",
      "               OPUSV1_DDC      0.000000  1.000000\n",
      "1019           FISV1_DDC       0.000000  1.000000\n",
      "               FISV1_NDC       0.000000  1.000000\n",
      "               OPUSV1_DDC      0.000000  1.000000\n",
      "1021           FISV1_DDC       0.000000  1.000000\n",
      "               FISV1_NDC       0.000000  1.000000\n",
      "               OPUSV1_DDC      0.000000  1.000000\n",
      "...                                 ...       ...\n",
      "2334           OPUSV1_NDC      0.754658  0.245342\n",
      "2335           OPUSV1_NDC      0.812411  0.187589\n",
      "2336           OPUSV1_NDC      0.795889  0.204111\n",
      "2337           OPUSV1_NDC      1.000000  0.000000\n",
      "2338           OPUSV1_NDC      0.671202  0.328798\n",
      "2339           OPUSV1_NDC      0.722178  0.277822\n",
      "2340           OPUSV1_NDC      0.722130  0.277870\n",
      "2341           OPUSV1_NDC      0.877711  0.122289\n",
      "9002           OPUSV1_DDC      0.956891  0.043109\n",
      "9004           OPUSV1_DDC      0.914331  0.085669\n",
      "9005           OPUSV1_DDC      0.948886  0.051114\n",
      "9006           OPUSV1_DDC      0.900724  0.099276\n",
      "9008           OPUSV1_DDC      0.904264  0.095736\n",
      "9010           OPUSV1_DDC      0.965894  0.034106\n",
      "9011           OPUSV1_DDC      1.000000  0.000000\n",
      "9012           OPUSV1_DDC      0.867498  0.132502\n",
      "9013           OPUSV1_DDC      0.865868  0.134132\n",
      "9016           OPUSV1_DDC      0.000000  1.000000\n",
      "9018           OPUSV1_DDC      0.873741  0.126259\n",
      "9020           OPUSV1_DDC      0.924235  0.075765\n",
      "9022           OPUSV1_DDC      0.918074  0.081926\n",
      "9024           OPUSV1_DDC      0.931317  0.068683\n",
      "9026           OPUSV1_DDC      0.899116  0.100884\n",
      "9027           OPUSV1_DDC      0.903112  0.096888\n",
      "9028           OPUSV1_DDC      0.913199  0.086801\n",
      "9029           OPUSV1_DDC      0.907080  0.092920\n",
      "9030           OPUSV1_DDC      0.887059  0.112941\n",
      "9032           OPUSV1_DDC      0.930898  0.069102\n",
      "9033           OPUSV1_DDC      0.928445  0.071555\n",
      "9034           OPUSV1_DDC      0.935065  0.064935\n",
      "\n",
      "[195 rows x 2 columns]\n"
     ]
    }
   ],
   "source": [
    "#Compute probability of failure in 24 hours when status code is present\n",
    "print atm.groupby(by=('SwitchResionID','Source Channel'))['failed_in_24'].\\\n",
    "    value_counts(normalize=True).unstack().fillna(0)"
   ]
  },
  {
   "cell_type": "code",
   "execution_count": 10,
   "metadata": {
    "collapsed": true
   },
   "outputs": [],
   "source": [
    "#Compute probability of status code in failure and normal conditions\n",
    "atm_failures = atm.loc[atm['failed_in_24']==1]\n",
    "atm_normal = atm.loc[atm['failed_in_24']==0]\n",
    "p_status_failure = atm_failures.loc[:,['SwitchResionID','Source Channel',\\\n",
    "    'failed_in_24']].groupby(by=('SwitchResionID','Source Channel')).\\\n",
    "    apply( lambda x: (0.0+len(x))/len(atm_failures) )\n",
    "p_status_normal = atm_normal.loc[:,['SwitchResionID','Source Channel',\\\n",
    "    'failed_in_24']].groupby(by=('SwitchResionID','Source Channel')).\\\n",
    "    apply( lambda x: (0.0+len(x))/len(atm_normal) )"
   ]
  },
  {
   "cell_type": "code",
   "execution_count": 11,
   "metadata": {
    "collapsed": true
   },
   "outputs": [],
   "source": [
    "status_logprob = pd.Series(index=status_codes)\n",
    "for status_code in status_codes:\n",
    "    normal = 0.000000001\n",
    "    failure = 0.000000001\n",
    "    try: normal += p_status_normal[status_code]\n",
    "    except: pass\n",
    "    try: failure += p_status_failure[status_code]\n",
    "    except: pass\n",
    "    status_logprob.ix[status_code]= max(np.log(failure/normal),-25)"
   ]
  },
  {
   "cell_type": "code",
   "execution_count": 12,
   "metadata": {
    "collapsed": false
   },
   "outputs": [
    {
     "name": "stdout",
     "output_type": "stream",
     "text": [
      "status (9016, 'OPUSV1_DDC') has log-odds ratio 16.408 with message\n",
      "\t Dispenser Fatal\n",
      "status (2311, 'OPUSV1_NDC') has log-odds ratio 15.724 with message\n",
      "\t Cash distributor has fatal problem\n",
      "status (1017, 'OPUSV1_DDC') has log-odds ratio 15.185 with message\n",
      "\t Feed failure from cassette\n",
      "status (1017, 'FISV1_DDC')  has log-odds ratio 15.185 with message\n",
      "\t CARD READER WARNING\n",
      "status (2225, 'OPUSV1_NDC') has log-odds ratio 15.072 with message\n",
      "\t Card ReaderWriter Read error\n",
      "status (2249, 'OPUSV1_NDC') has log-odds ratio 14.640 with message\n",
      "\t Card ReaderWriter Received unknown Mstatus\n",
      "status (1059, 'OPUSV1_DDC') has log-odds ratio 13.923 with message\n",
      "\t Card is jammed on the read head\n",
      "status (1057, 'OPUSV1_DDC') has log-odds ratio 13.752 with message\n",
      "\t Track 123 read error\n",
      "status (1026, 'FISV1_NDC')  has log-odds ratio 13.676 with message\n",
      "\t CASSETTE 1  WARNING\n",
      "status (1026, 'OPUSV1_DDC') has log-odds ratio 13.676 with message\n",
      "\t Too many bills dispensed\n",
      "status (2184, 'OPUSV1_NDC') has log-odds ratio 13.612 with message\n",
      "\t CashHandler Operation not attemptd as previous Operation was fatal\n",
      "status (2177, 'OPUSV1_NDC') has log-odds ratio 13.608 with message\n",
      "\t CashHandler Pick failure\n",
      "status (2186, 'OPUSV1_NDC') has log-odds ratio 13.397 with message\n",
      "\t CashHandler Presenter failurejam\n",
      "status (2216, 'OPUSV1_NDC') has log-odds ratio 13.237 with message\n",
      "\t CashHandler Faulty dispense\n",
      "status (2192, 'OPUSV1_NDC') has log-odds ratio 13.163 with message\n",
      "\t CashHandler Bills not seen at Exit Sensor\n"
     ]
    }
   ],
   "source": [
    "for r in status_logprob.sort_values(ascending=False).head(15).iteritems():\n",
    "    print 'status {0:20s} has log-odds ratio {1:3.3f} with message\\n\\t {2}'\\\n",
    "    .format(r[0],r[1],reasons_table.loc[r[0][0],r[0][1]])"
   ]
  },
  {
   "cell_type": "code",
   "execution_count": 13,
   "metadata": {
    "collapsed": false
   },
   "outputs": [
    {
     "data": {
      "text/plain": [
       "<matplotlib.text.Text at 0x130e72190>"
      ]
     },
     "execution_count": 13,
     "metadata": {},
     "output_type": "execute_result"
    },
    {
     "data": {
      "image/png": "[encoded data removed]",
      "text/plain": [
       "<matplotlib.figure.Figure at 0x13a416d10>"
      ]
     },
     "metadata": {},
     "output_type": "display_data"
    }
   ],
   "source": [
    "status_logprob.hist(bins=50)\n",
    "plt.title('Histogram of Log-Probability Ratio for Status Codes')"
   ]
  },
  {
   "cell_type": "code",
   "execution_count": 14,
   "metadata": {
    "collapsed": false
   },
   "outputs": [
    {
     "name": "stdout",
     "output_type": "stream",
     "text": [
      "There are 52 status codes with log-probability over 5\n"
     ]
    }
   ],
   "source": [
    "print 'There are %d status codes with log-probability over 5'\\\n",
    "% len(status_logprob[status_logprob>5])"
   ]
  },
  {
   "cell_type": "markdown",
   "metadata": {},
   "source": [
    "### Failure Trajectories"
   ]
  },
  {
   "cell_type": "code",
   "execution_count": 15,
   "metadata": {
    "collapsed": true
   },
   "outputs": [],
   "source": [
    "transition_count = pd.DataFrame(index=status_codes,\\\n",
    "                                columns=status_codes).fillna(0)\n",
    "atm_sites = atm.sort_values(by='Event Date').groupby('Site ID')\n",
    "for group in atm_sites:\n",
    "    prevSC = None\n",
    "    prevTime = None\n",
    "    for currRec in group[1].loc[:,['SwitchResionID',\\\n",
    "        'Source Channel', 'Event Date']].iterrows():\n",
    "        currSC = (currRec[1]['SwitchResionID'],\\\n",
    "                  currRec[1]['Source Channel'])\n",
    "        if prevSC is not None:\n",
    "            if currRec[1]['Event Date']-prevTime <\\\n",
    "                dt.timedelta(minutes=15):\n",
    "                transition_count.ix[prevSC,currSC]+=1\n",
    "        prevSC = currSC\n",
    "        prevTime = currRec[1]['Event Date']"
   ]
  },
  {
   "cell_type": "code",
   "execution_count": 16,
   "metadata": {
    "collapsed": false
   },
   "outputs": [
    {
     "name": "stdout",
     "output_type": "stream",
     "text": [
      "(9016, 'OPUSV1_DDC')\tDispenser Fatal\n",
      "\t0.737\t(9016, 'OPUSV1_DDC'): Dispenser Fatal\n",
      "\t0.053\t(594, 'OPUSV1_DDC'): Go Out Of Service message sent to the ATM\n",
      "\t0.044\t(508, 'OPUSV1_DDC'): ATM is in service\n",
      "(2311, 'OPUSV1_NDC')\tCash distributor has fatal problem\n",
      "\t0.331\t(2215, 'OPUSV1_NDC'): CashHandler No notes dispensed\n",
      "\t0.211\t(509, 'OPUSV1_DDC'): ATM is out of service\n",
      "\t0.075\t(508, 'OPUSV1_DDC'): ATM is in service\n",
      "(1017, 'FISV1_DDC')\tCARD READER WARNING\n",
      "\t0.405\t(1017, 'OPUSV1_DDC'): Feed failure from cassette\n",
      "\t0.258\t(1013, 'OPUSV1_DDC'): Bill sensors are not blocked by a money stack\n",
      "\t0.133\t(1013, 'FISV1_DDC'): 3RD CASSETTE  LOW ON CASH\n",
      "(2225, 'OPUSV1_NDC')\tCard ReaderWriter Read error\n",
      "\t0.830\t(2305, 'OPUSV1_NDC'): Card reader has major error It Continues to work\n",
      "\t0.074\t(2225, 'OPUSV1_NDC'): Card ReaderWriter Read error\n",
      "\t0.062\t(2235, 'OPUSV1_NDC'): Card ReaderWriter Card in throatposs customer tamper\n",
      "(2249, 'OPUSV1_NDC')\tCard ReaderWriter Received unknown Mstatus\n",
      "\t0.446\t(2305, 'OPUSV1_NDC'): Card reader has major error It Continues to work\n",
      "\t0.147\t(508, 'OPUSV1_DDC'): ATM is in service\n",
      "\t0.074\t(2307, 'OPUSV1_NDC'): Card reader has fatal problem\n",
      "(1059, 'OPUSV1_DDC')\tCard is jammed on the read head\n",
      "\t0.369\t(594, 'OPUSV1_DDC'): Go Out Of Service message sent to the ATM\n",
      "\t0.327\t(1057, 'OPUSV1_DDC'): Track 123 read error\n",
      "\t0.051\t(509, 'OPUSV1_DDC'): ATM is out of service\n",
      "(1057, 'OPUSV1_DDC')\tTrack 123 read error\n",
      "\t0.455\t(1059, 'OPUSV1_DDC'): Card is jammed on the read head\n",
      "\t0.219\t(594, 'OPUSV1_DDC'): Go Out Of Service message sent to the ATM\n",
      "\t0.043\t(1187, 'OPUSV1_DDC'): The safe door is close\n",
      "(1026, 'FISV1_NDC')\tCASSETTE 1  WARNING\n",
      "\t0.480\t(1026, 'OPUSV1_DDC'): Too many bills dispensed\n",
      "\t0.232\t(1013, 'OPUSV1_DDC'): Bill sensors are not blocked by a money stack\n",
      "\t0.118\t(1013, 'FISV1_DDC'): 3RD CASSETTE  LOW ON CASH\n",
      "(1026, 'OPUSV1_DDC')\tToo many bills dispensed\n",
      "\t0.493\t(1026, 'FISV1_NDC'): CASSETTE 1  WARNING\n",
      "\t0.150\t(1013, 'OPUSV1_DDC'): Bill sensors are not blocked by a money stack\n",
      "\t0.132\t(1013, 'FISV1_DDC'): 3RD CASSETTE  LOW ON CASH\n",
      "(2184, 'OPUSV1_NDC')\tCashHandler Operation not attemptd as previous Operation was fatal\n",
      "\t0.441\t(2215, 'OPUSV1_NDC'): CashHandler No notes dispensed\n",
      "\t0.110\t(2311, 'OPUSV1_NDC'): Cash distributor has fatal problem\n",
      "\t0.093\t(508, 'OPUSV1_DDC'): ATM is in service\n"
     ]
    }
   ],
   "source": [
    "conditional_previous=transition_count.\\\n",
    "    apply(lambda x: x/transition_count.sum(axis=0),axis=1)\n",
    "for error in top_failures.head(10).iteritems():\n",
    "    print '{}\\t{}'.format(error[0],reasons_table.loc[error[0]])\n",
    "    for rec in conditional_previous[error[0]].dropna().\\\n",
    "    sort_values(ascending=False).head(3).iteritems():\n",
    "        print '\\t{0:03.3f}\\t{2}: {1}'.format\\\n",
    "        (rec[1],reasons_table.loc[rec[0]], rec[0])"
   ]
  },
  {
   "cell_type": "markdown",
   "metadata": {},
   "source": [
    "### Frequent Patterns Prior to Failure"
   ]
  },
  {
   "cell_type": "code",
   "execution_count": 17,
   "metadata": {
    "collapsed": true
   },
   "outputs": [],
   "source": [
    "def window_pattern(data, win):\n",
    "    atm_sites = data.sort_values(by='Event Date').groupby('Site ID')\n",
    "    seq = deque([])\n",
    "    freq = Counter()\n",
    "    for group in atm_sites:\n",
    "        for currRec in group[1].loc[:,['SwitchResionID',\\\n",
    "        'Source Channel', 'Event Date']].iterrows():\n",
    "            if len(seq) == win:\n",
    "                freq[tuple(seq)]+=1\n",
    "                seq.popleft()\n",
    "            seq.append(tuple([currRec[1]['SwitchResionID'],\\\n",
    "                      currRec[1]['Source Channel']]))\n",
    "        freq[tuple(seq)]+=1\n",
    "    return freq"
   ]
  },
  {
   "cell_type": "code",
   "execution_count": 18,
   "metadata": {
    "collapsed": false
   },
   "outputs": [
    {
     "name": "stdout",
     "output_type": "stream",
     "text": [
      "1582\n",
      "\t(9016, 'OPUSV1_DDC')\tDispenser Fatal\n",
      "\t(9016, 'OPUSV1_DDC')\tDispenser Fatal\n",
      "\t(9016, 'OPUSV1_DDC')\tDispenser Fatal\n",
      "\t(9016, 'OPUSV1_DDC')\tDispenser Fatal\n",
      "\t(9016, 'OPUSV1_DDC')\tDispenser Fatal\n",
      "\n",
      "\n",
      "1036\n",
      "\t(2111, 'OPUSV1_NDC')\tSensors Mode switch moved to supervisory mode\n",
      "\t(2137, 'OPUSV1_NDC')\tSupervisor Keys Key presssed from Main Menu\n",
      "\t(2110, 'OPUSV1_NDC')\tSensors Mode switch moved to normal mode\n",
      "\t(594, 'OPUSV1_DDC')\tGo Out Of Service message sent to the ATM\n",
      "\t(509, 'OPUSV1_DDC')\tATM is out of service\n",
      "\n",
      "\n",
      "898\n",
      "\t(2111, 'OPUSV1_NDC')\tSensors Mode switch moved to supervisory mode\n",
      "\t(2137, 'OPUSV1_NDC')\tSupervisor Keys Key presssed from Main Menu\n",
      "\t(594, 'OPUSV1_DDC')\tGo Out Of Service message sent to the ATM\n",
      "\t(2110, 'OPUSV1_NDC')\tSensors Mode switch moved to normal mode\n",
      "\t(509, 'OPUSV1_DDC')\tATM is out of service\n",
      "\n",
      "\n",
      "892\n",
      "\t(2138, 'OPUSV1_NDC')\tSupervisor Keys Key presssed from Replenish Menu\n",
      "\t(2138, 'OPUSV1_NDC')\tSupervisor Keys Key presssed from Replenish Menu\n",
      "\t(2138, 'OPUSV1_NDC')\tSupervisor Keys Key presssed from Replenish Menu\n",
      "\t(2138, 'OPUSV1_NDC')\tSupervisor Keys Key presssed from Replenish Menu\n",
      "\t(2138, 'OPUSV1_NDC')\tSupervisor Keys Key presssed from Replenish Menu\n",
      "\n",
      "\n",
      "826\n",
      "\t(151, 'OPUSV1_DDC')\tConnection with ATM is down\n",
      "\t(150, 'OPUSV1_DDC')\tConnection with ATM is up\n",
      "\t(510, 'OPUSV1_DDC')\tATM is in service with some error in Fitness\n",
      "\t(594, 'OPUSV1_DDC')\tGo Out Of Service message sent to the ATM\n",
      "\t(509, 'OPUSV1_DDC')\tATM is out of service\n",
      "\n",
      "\n",
      "792\n",
      "\t(150, 'OPUSV1_DDC')\tConnection with ATM is up\n",
      "\t(508, 'OPUSV1_DDC')\tATM is in service\n",
      "\t(151, 'OPUSV1_DDC')\tConnection with ATM is down\n",
      "\t(150, 'OPUSV1_DDC')\tConnection with ATM is up\n",
      "\t(508, 'OPUSV1_DDC')\tATM is in service\n",
      "\n",
      "\n",
      "783\n",
      "\t(151, 'OPUSV1_DDC')\tConnection with ATM is down\n",
      "\t(510, 'OPUSV1_DDC')\tATM is in service with some error in Fitness\n",
      "\t(150, 'OPUSV1_DDC')\tConnection with ATM is up\n",
      "\t(594, 'OPUSV1_DDC')\tGo Out Of Service message sent to the ATM\n",
      "\t(509, 'OPUSV1_DDC')\tATM is out of service\n",
      "\n",
      "\n",
      "751\n",
      "\t(508, 'OPUSV1_DDC')\tATM is in service\n",
      "\t(151, 'OPUSV1_DDC')\tConnection with ATM is down\n",
      "\t(150, 'OPUSV1_DDC')\tConnection with ATM is up\n",
      "\t(508, 'OPUSV1_DDC')\tATM is in service\n",
      "\t(151, 'OPUSV1_DDC')\tConnection with ATM is down\n",
      "\n",
      "\n",
      "731\n",
      "\t(151, 'OPUSV1_DDC')\tConnection with ATM is down\n",
      "\t(150, 'OPUSV1_DDC')\tConnection with ATM is up\n",
      "\t(508, 'OPUSV1_DDC')\tATM is in service\n",
      "\t(151, 'OPUSV1_DDC')\tConnection with ATM is down\n",
      "\t(150, 'OPUSV1_DDC')\tConnection with ATM is up\n",
      "\n",
      "\n",
      "723\n",
      "\t(508, 'OPUSV1_DDC')\tATM is in service\n",
      "\t(150, 'OPUSV1_DDC')\tConnection with ATM is up\n",
      "\t(151, 'OPUSV1_DDC')\tConnection with ATM is down\n",
      "\t(508, 'OPUSV1_DDC')\tATM is in service\n",
      "\t(150, 'OPUSV1_DDC')\tConnection with ATM is up\n",
      "\n",
      "\n"
     ]
    }
   ],
   "source": [
    "for pat in window_pattern(atm_failures, 5).most_common(10):\n",
    "    print pat[1]\n",
    "    for rec in pat[0]:\n",
    "        print '\\t{}\\t{}'.format(rec,reasons_table.loc[rec])\n",
    "    print '\\n'              "
   ]
  },
  {
   "cell_type": "markdown",
   "metadata": {},
   "source": [
    "### Setting up the Data Analysis Environment"
   ]
  },
  {
   "cell_type": "code",
   "execution_count": 1,
   "metadata": {
    "collapsed": false
   },
   "outputs": [],
   "source": [
    "%matplotlib inline\n",
    "from sklearn import datasets, preprocessing, cross_validation,\\\n",
    "    feature_extraction, linear_model, svm, metrics, ensemble\n",
    "import numpy as np\n",
    "import datetime as dt\n",
    "import pandas as pd\n",
    "import ast\n",
    "import matplotlib.pyplot as plt\n",
    "from collections import Counter, deque\n",
    "datapath = 'file://data.csv'\n",
    "statuscodepath = 'file:///Users.../SwitchStatusCodes.csv'\n",
    "atm  = pd.read_csv(datapath, header=0)\n",
    "atm['Event Date']=pd.to_datetime(atm['Event Date'])\n",
    "reasons  = pd.read_csv(statuscodepath, header=0, skipinitialspace=True, error_bad_lines=False, index_col=False)\n",
    "reasons_table = pd.DataFrame()\n",
    "for x in reasons.loc[:,['SwitchResionID','SourceChannel for Different Switches','Description']].iterrows():\n",
    "    reasons_table.loc[x[1]['SwitchResionID'],x[1]['SourceChannel for Different Switches']]=x[1]['Description']\n",
    "status_codes = [x for x in atm.groupby(by=('SwitchResionID','Source Channel')).groups.iterkeys()]"
   ]
  }
 ],
 "metadata": {
  "kernelspec": {
   "display_name": "Python 2",
   "language": "python",
   "name": "python2"
  },
  "language_info": {
   "codemirror_mode": {
    "name": "ipython",
    "version": 2
   },
   "file_extension": ".py",
   "mimetype": "text/x-python",
   "name": "python",
   "nbconvert_exporter": "python",
   "pygments_lexer": "ipython2",
   "version": "2.7.11"
  }
 },
 "nbformat": 4,
 "nbformat_minor": 0
}
