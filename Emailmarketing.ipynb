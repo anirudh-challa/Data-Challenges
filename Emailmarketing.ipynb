{
 "cells": [
  {
   "cell_type": "code",
   "execution_count": 1,
   "metadata": {
    "collapsed": true
   },
   "outputs": [],
   "source": [
    "import numpy as np\n",
    "import pandas as pd\n",
    "import matplotlib.pyplot as plt\n",
    "\n",
    "%matplotlib inline"
   ]
  },
  {
   "cell_type": "code",
   "execution_count": 2,
   "metadata": {
    "collapsed": false
   },
   "outputs": [],
   "source": [
    "mk_train = pd.read_csv('.....\\marketing_training.csv')\n",
    "mk_test = pd.read_csv('......\\marketing_test.csv')"
   ]
  },
  {
   "cell_type": "code",
   "execution_count": 3,
   "metadata": {
    "collapsed": false
   },
   "outputs": [
    {
     "data": {
      "text/plain": [
       "custAge            True\n",
       "profession        False\n",
       "marital           False\n",
       "schooling          True\n",
       "default           False\n",
       "housing           False\n",
       "loan              False\n",
       "contact           False\n",
       "month             False\n",
       "day_of_week        True\n",
       "campaign          False\n",
       "pdays             False\n",
       "previous          False\n",
       "poutcome          False\n",
       "emp.var.rate      False\n",
       "cons.price.idx    False\n",
       "cons.conf.idx     False\n",
       "euribor3m         False\n",
       "nr.employed       False\n",
       "pmonths           False\n",
       "pastEmail         False\n",
       "responded         False\n",
       "dtype: bool"
      ]
     },
     "execution_count": 3,
     "metadata": {},
     "output_type": "execute_result"
    }
   ],
   "source": [
    "pd.isnull(mk_train).any() #Finding missing data"
   ]
  },
  {
   "cell_type": "code",
   "execution_count": 4,
   "metadata": {
    "collapsed": false
   },
   "outputs": [],
   "source": [
    "mk_train_age = mk_train[np.isfinite(mk_train['custAge'])]"
   ]
  },
  {
   "cell_type": "code",
   "execution_count": 5,
   "metadata": {
    "collapsed": false
   },
   "outputs": [],
   "source": [
    "mat = mk_train_age.as_matrix()"
   ]
  },
  {
   "cell_type": "code",
   "execution_count": 6,
   "metadata": {
    "collapsed": false
   },
   "outputs": [],
   "source": [
    "for i in range(len(mat)):\n",
    "    if mat[i,21] == 'no':\n",
    "        mat[i,21] = 0\n",
    "    elif  mat[i,21] == 'yes':\n",
    "        mat[i,21] = 1\n",
    "    else:\n",
    "        print mat[i,21]\n",
    "        "
   ]
  },
  {
   "cell_type": "code",
   "execution_count": 7,
   "metadata": {
    "collapsed": false
   },
   "outputs": [
    {
     "data": {
      "text/plain": [
       "array([55, 42, 55, ..., 27, 51, 38])"
      ]
     },
     "execution_count": 7,
     "metadata": {},
     "output_type": "execute_result"
    }
   ],
   "source": [
    "x = mat[:,0]\n",
    "x.astype(int)"
   ]
  },
  {
   "cell_type": "code",
   "execution_count": 8,
   "metadata": {
    "collapsed": false
   },
   "outputs": [
    {
     "data": {
      "text/plain": [
       "(0.04090861423728518, 0.0021792303017186682)"
      ]
     },
     "execution_count": 8,
     "metadata": {},
     "output_type": "execute_result"
    }
   ],
   "source": [
    "from scipy.stats.stats import pearsonr\n",
    "pearsonr(x,mat[:,21])\n",
    "#This is the correlation between age and target and it seems to be very low"
   ]
  },
  {
   "cell_type": "code",
   "execution_count": 9,
   "metadata": {
    "collapsed": false
   },
   "outputs": [
    {
     "data": {
      "text/plain": [
       "array(['university.degree', 'high.school', 'basic.4y', 'basic.9y',\n",
       "       'professional.course', 'basic.6y', 'illiterate'], dtype=object)"
      ]
     },
     "execution_count": 9,
     "metadata": {},
     "output_type": "execute_result"
    }
   ],
   "source": [
    "mk_train_schooling = mk_train[mk_train.schooling.notnull()]\n",
    "mk_train_schooling2 = mk_train_schooling[mk_train_schooling.schooling != 'unknown']\n",
    "mk_train_schooling2.schooling.unique()"
   ]
  },
  {
   "cell_type": "code",
   "execution_count": 10,
   "metadata": {
    "collapsed": false
   },
   "outputs": [],
   "source": [
    "mat = mk_train_schooling2.as_matrix()\n",
    "for i in range(len(mat)):\n",
    "    if mat[i,21] == 'no':\n",
    "        mat[i,21] = 0\n",
    "    elif  mat[i,21] == 'yes':\n",
    "        mat[i,21] = 1\n",
    "    else:\n",
    "        print mat[i,21]\n"
   ]
  },
  {
   "cell_type": "code",
   "execution_count": 11,
   "metadata": {
    "collapsed": false
   },
   "outputs": [],
   "source": [
    "for i in range(len(mat)):\n",
    "    if mat[i,3] == 'illiterate':\n",
    "        mat[i,3] = 0\n",
    "    elif  mat[i,3] == 'basic.4y':\n",
    "        mat[i,3] = 0\n",
    "    elif  mat[i,3] == 'basic.6y':\n",
    "        mat[i,3] = 0\n",
    "    elif  mat[i,3] == 'basic.9y':\n",
    "        mat[i,3] = 0\n",
    "    elif  mat[i,3] == 'high.school':\n",
    "        mat[i,3] = 0\n",
    "    elif  mat[i,3] == 'university.degree':\n",
    "        mat[i,3] = 1\n",
    "    elif  mat[i,3] == 'professional.course':\n",
    "        mat[i,3] = 1\n",
    "    else:\n",
    "        print mat[i,21]"
   ]
  },
  {
   "cell_type": "code",
   "execution_count": 12,
   "metadata": {
    "collapsed": false
   },
   "outputs": [
    {
     "data": {
      "text/plain": [
       "(0.044038377535354091, 0.0017875676497612529)"
      ]
     },
     "execution_count": 12,
     "metadata": {},
     "output_type": "execute_result"
    }
   ],
   "source": [
    "from scipy.stats.stats import pearsonr\n",
    "pearsonr(mat[:,3],mat[:,21])"
   ]
  },
  {
   "cell_type": "code",
   "execution_count": 13,
   "metadata": {
    "collapsed": false
   },
   "outputs": [],
   "source": [
    "mk_train_day = mk_train[mk_train.day_of_week.notnull()]"
   ]
  },
  {
   "cell_type": "code",
   "execution_count": 14,
   "metadata": {
    "collapsed": false
   },
   "outputs": [
    {
     "data": {
      "text/plain": [
       "array(['mon', 'wed', 'tue', 'fri', 'thu'], dtype=object)"
      ]
     },
     "execution_count": 14,
     "metadata": {},
     "output_type": "execute_result"
    }
   ],
   "source": [
    "mk_train_day.day_of_week.unique()"
   ]
  },
  {
   "cell_type": "code",
   "execution_count": 15,
   "metadata": {
    "collapsed": false
   },
   "outputs": [],
   "source": [
    "mat = mk_train_day.as_matrix()\n",
    "for i in range(len(mat)):\n",
    "    if mat[i,21] == 'no':\n",
    "        mat[i,21] = 0\n",
    "    elif  mat[i,21] == 'yes':\n",
    "        mat[i,21] = 1\n",
    "    else:\n",
    "        print mat[i,21]"
   ]
  },
  {
   "cell_type": "code",
   "execution_count": 16,
   "metadata": {
    "collapsed": false
   },
   "outputs": [],
   "source": [
    "for i in range(len(mat)):\n",
    "    if mat[i,9] == 'mon':\n",
    "        mat[i,9] = 1\n",
    "    elif  mat[i,9] == 'tue':\n",
    "        mat[i,9] = 1\n",
    "    elif  mat[i,9] == 'wed':\n",
    "        mat[i,9] = 1\n",
    "    elif  mat[i,9] == 'thu':\n",
    "        mat[i,9] = 1\n",
    "    elif  mat[i,9] == 'fri':\n",
    "        mat[i,9] = 0\n",
    "    else:\n",
    "        print mat[i,9]"
   ]
  },
  {
   "cell_type": "code",
   "execution_count": 17,
   "metadata": {
    "collapsed": false
   },
   "outputs": [
    {
     "data": {
      "text/plain": [
       "(-0.013485006651325827, 0.2696422714366849)"
      ]
     },
     "execution_count": 17,
     "metadata": {},
     "output_type": "execute_result"
    }
   ],
   "source": [
    "from scipy.stats.stats import pearsonr\n",
    "pearsonr(mat[:,9],mat[:,21])\n",
    "#although the p-value is not insignificant the correlation is low"
   ]
  },
  {
   "cell_type": "code",
   "execution_count": 18,
   "metadata": {
    "collapsed": true
   },
   "outputs": [],
   "source": [
    "mk_train.drop(mk_train.columns[[0, 3, 9]], axis=1, inplace=True)"
   ]
  },
  {
   "cell_type": "code",
   "execution_count": 19,
   "metadata": {
    "collapsed": false
   },
   "outputs": [
    {
     "name": "stdout",
     "output_type": "stream",
     "text": [
      "{'failure': 1, 'success': 2, 'nonexistent': 0}\n",
      "{'unknown': 0, 'yes': 2, 'no': 1}\n",
      "{'unknown': 2, 'yes': 1, 'no': 0}\n",
      "{'management': 3, 'retired': 9, 'self-employed': 8, 'unknown': 7, 'unemployed': 5, 'housemaid': 6, 'admin.': 0, 'services': 4, 'student': 10, 'technician': 2, 'entrepreneur': 11, 'blue-collar': 1}\n",
      "{'unknown': 3, 'single': 0, 'married': 1, 'divorced': 2}\n",
      "{'telephone': 1, 'cellular': 0}\n",
      "{'unknown': 2, 'yes': 1, 'no': 0}\n",
      "{'mar': 6, 'aug': 3, 'sep': 8, 'may': 2, 'jun': 5, 'jul': 1, 'apr': 4, 'nov': 0, 'dec': 9, 'oct': 7}\n",
      "{'yes': 1, 'no': 0}\n"
     ]
    }
   ],
   "source": [
    "all_cols = set(list(mk_train))\n",
    "numeric_cols = set(['campaign','pdays','previous','emp.var.rate','cons.price.idx','cons.conf.idx','euribor3m','nr.employed','pmonths','pastEmail'])\n",
    "col_names = list(all_cols - numeric_cols)\n",
    "\n",
    "for col in col_names:\n",
    "    categories = mk_train[col].unique()\n",
    "    dic = {}\n",
    "    i = 0\n",
    "    for category in categories:\n",
    "        dic[category] = i\n",
    "        i = i+1\n",
    "    print dic\n",
    "    \n",
    "    def transtonum(x):\n",
    "        x[col] = dic[x[col]]\n",
    "        return x\n",
    "    \n",
    "    mk_train = mk_train.apply(transtonum, axis =1)    \n",
    "#Converting categorical data to numerical data"
   ]
  },
  {
   "cell_type": "code",
   "execution_count": 20,
   "metadata": {
    "collapsed": false
   },
   "outputs": [],
   "source": [
    "mk = mk_train.copy() "
   ]
  },
  {
   "cell_type": "code",
   "execution_count": 21,
   "metadata": {
    "collapsed": false
   },
   "outputs": [],
   "source": [
    "def zero_index(x):\n",
    "    z = []\n",
    "    for i in range(len(x)):\n",
    "        if x[i,18] ==0:\n",
    "            z.append(i)\n",
    "    return z\n",
    "\n",
    "def one_index(x):\n",
    "    o = []\n",
    "    for i in range(len(x)):\n",
    "        if x[i,18] ==1:\n",
    "            o.append(i)\n",
    "    return o\n"
   ]
  },
  {
   "cell_type": "code",
   "execution_count": 22,
   "metadata": {
    "collapsed": false
   },
   "outputs": [],
   "source": [
    "mk = mk.as_matrix()\n",
    "np.random.shuffle(mk)\n",
    "o = one_index(mk)\n",
    "z = zero_index(mk)\n",
    "one_train = o[0:672]\n",
    "one_test = o[672:]\n",
    "zero_train = z[0:5328]\n",
    "zero_test = z[5328:]\n",
    "\n",
    "train_zero = []\n",
    "train_one = []\n",
    "test_one = []\n",
    "test_zero = []\n",
    "\n",
    "for i in zero_train:\n",
    "    train_zero.append(mk[i])\n",
    "\n",
    "for j in one_train:\n",
    "    train_one.append(mk[j])\n",
    "    \n",
    "for i in zero_test:\n",
    "    test_zero.append(mk[i])\n",
    "\n",
    "for j in one_test:\n",
    "    test_one.append(mk[j]) \n",
    "    \n"
   ]
  },
  {
   "cell_type": "code",
   "execution_count": 23,
   "metadata": {
    "collapsed": false
   },
   "outputs": [
    {
     "data": {
      "text/plain": [
       "840"
      ]
     },
     "execution_count": 23,
     "metadata": {},
     "output_type": "execute_result"
    }
   ],
   "source": [
    "len(o)"
   ]
  },
  {
   "cell_type": "code",
   "execution_count": 24,
   "metadata": {
    "collapsed": false
   },
   "outputs": [],
   "source": [
    "train_zero = np.asarray(train_zero)\n",
    "train_one = np.asarray(train_one)\n",
    "test_zero = np.asarray(test_zero)\n",
    "test_one = np.asarray(test_one)"
   ]
  },
  {
   "cell_type": "code",
   "execution_count": 25,
   "metadata": {
    "collapsed": false
   },
   "outputs": [],
   "source": [
    "#Oversampling to make classes more balanced\n",
    "train1 = np.vstack((train_zero[0:672],train_one[0:672]))\n",
    "train2 = np.vstack((train_zero[672:1344],train_one[0:672]))\n",
    "train3 = np.vstack((train_zero[1344:2016],train_one[0:672]))\n",
    "train4 = np.vstack((train_zero[2016:2696],train_one[0:672]))\n",
    "train5 = np.vstack((train_zero[2696:3368],train_one[0:672]))\n",
    "train6 = np.vstack((train_zero[3368:4040],train_one[0:672]))\n",
    "train7 = np.vstack((train_zero[4040:4712],train_one[0:672]))\n",
    "train8 = np.vstack((train_zero[4712:5328],train_one[0:672]))\n",
    "np.random.shuffle(train1)\n",
    "np.random.shuffle(train2)\n",
    "np.random.shuffle(train3)\n",
    "np.random.shuffle(train4)\n",
    "np.random.shuffle(train5)\n",
    "np.random.shuffle(train6)\n",
    "np.random.shuffle(train7)\n",
    "np.random.shuffle(train8)\n",
    "x_train1, y_train1 = train1[:,0:18], train1[:,18]\n",
    "x_train2, y_train2 = train2[:,0:18], train2[:,18]\n",
    "x_train3, y_train3 = train3[:,0:18], train3[:,18]\n",
    "x_train4, y_train4 = train4[:,0:18], train4[:,18]\n",
    "x_train5, y_train5 = train5[:,0:18], train5[:,18]\n",
    "x_train6, y_train6 = train6[:,0:18], train6[:,18]\n",
    "x_train7, y_train7 = train7[:,0:18], train7[:,18]\n",
    "x_train8, y_train8 = train8[:,0:18], train8[:,18]"
   ]
  },
  {
   "cell_type": "code",
   "execution_count": 26,
   "metadata": {
    "collapsed": false
   },
   "outputs": [
    {
     "data": {
      "text/plain": [
       "'\\ntrain = np.vstack((train_zero,train_one))\\nnp.random.shuffle(train)\\nx_train, y_train = train[:,0:18], train[:,18]\\n\\n'"
      ]
     },
     "execution_count": 26,
     "metadata": {},
     "output_type": "execute_result"
    }
   ],
   "source": [
    "#If the 1st part is commented out then it is oversampled \"balanced\", else if the 2nd part is commented it is unblanced\n",
    "x_train = np.vstack((x_train1, x_train2, x_train3, x_train4, x_train5, x_train6, x_train7, x_train8))\n",
    "y_train = np.concatenate((y_train1, y_train2, y_train3, y_train4, y_train5, y_train6, y_train7, y_train8))\n",
    "\n",
    "\"\"\"\n",
    "train = np.vstack((train_zero,train_one))\n",
    "np.random.shuffle(train)\n",
    "x_train, y_train = train[:,0:18], train[:,18]\n",
    "\n",
    "\"\"\""
   ]
  },
  {
   "cell_type": "code",
   "execution_count": 27,
   "metadata": {
    "collapsed": false
   },
   "outputs": [],
   "source": [
    "test = np.vstack((test_zero,test_one))\n",
    "np.random.shuffle(test)\n",
    "x_test, y_test = test[:,0:18], test[:,18]"
   ]
  },
  {
   "cell_type": "markdown",
   "metadata": {},
   "source": [
    "Testing out Classfiers"
   ]
  },
  {
   "cell_type": "code",
   "execution_count": 30,
   "metadata": {
    "collapsed": false
   },
   "outputs": [],
   "source": [
    "from sklearn.ensemble import VotingClassifier\n",
    "from sklearn.svm import SVC\n",
    "from sklearn.linear_model import SGDClassifier\n",
    "clf = SGDClassifier(n_iter=100, alpha=0.125)\n",
    "\n",
    "clf.fit(x_train,y_train) \n",
    "ans = clf.predict(x_test)"
   ]
  },
  {
   "cell_type": "code",
   "execution_count": 31,
   "metadata": {
    "collapsed": false
   },
   "outputs": [
    {
     "name": "stdout",
     "output_type": "stream",
     "text": [
      "[[1224   22]\n",
      " [ 133   35]]\n",
      "0.890381895332\n"
     ]
    }
   ],
   "source": [
    "from sklearn.metrics import confusion_matrix\n",
    "print confusion_matrix(y_test, ans)\n",
    "print clf.score(x_test, y_test)\n"
   ]
  },
  {
   "cell_type": "code",
   "execution_count": 32,
   "metadata": {
    "collapsed": false
   },
   "outputs": [],
   "source": [
    "from sklearn.ensemble import GradientBoostingClassifier\n",
    "clf = GradientBoostingClassifier(n_estimators=100, max_depth=5, random_state=0).fit(x_train, y_train)\n",
    "ans= clf.predict(x_test) "
   ]
  },
  {
   "cell_type": "code",
   "execution_count": 33,
   "metadata": {
    "collapsed": false
   },
   "outputs": [
    {
     "name": "stdout",
     "output_type": "stream",
     "text": [
      "[[1030  216]\n",
      " [  78   90]]\n",
      "0.792079207921\n"
     ]
    }
   ],
   "source": [
    "from sklearn.metrics import confusion_matrix\n",
    "print confusion_matrix(y_test, ans)\n",
    "print clf.score(x_test, y_test)"
   ]
  },
  {
   "cell_type": "code",
   "execution_count": 34,
   "metadata": {
    "collapsed": false
   },
   "outputs": [],
   "source": [
    "from sklearn.ensemble import RandomForestClassifier\n",
    "clf = RandomForestClassifier(n_estimators=100,max_depth=10,class_weight={0:8,1:1}).fit(x_train, y_train)\n",
    "ans= clf.predict(x_test) "
   ]
  },
  {
   "cell_type": "code",
   "execution_count": 35,
   "metadata": {
    "collapsed": false
   },
   "outputs": [
    {
     "name": "stdout",
     "output_type": "stream",
     "text": [
      "[[1196   50]\n",
      " [ 112   56]]\n",
      "0.885431400283\n"
     ]
    }
   ],
   "source": [
    "from sklearn.metrics import confusion_matrix\n",
    "print confusion_matrix(y_test, ans)\n",
    "print clf.score(x_test, y_test)"
   ]
  },
  {
   "cell_type": "code",
   "execution_count": 36,
   "metadata": {
    "collapsed": false
   },
   "outputs": [
    {
     "name": "stdout",
     "output_type": "stream",
     "text": [
      "['poutcome', 'default', 'housing', 'profession', 'marital', 'contact', 'month', 'loan']\n",
      "{'failure': 2, 'success': 1, 'nonexistent': 0}\n",
      "{'unknown': 1, 'no': 0}\n",
      "{'unknown': 2, 'yes': 0, 'no': 1}\n",
      "{'management': 6, 'retired': 4, 'self-employed': 8, 'unknown': 10, 'unemployed': 7, 'housemaid': 11, 'admin.': 3, 'entrepreneur': 0, 'services': 5, 'student': 9, 'technician': 2, 'blue-collar': 1}\n",
      "{'unknown': 2, 'single': 1, 'married': 0, 'divorced': 3}\n",
      "{'telephone': 1, 'cellular': 0}\n",
      "{'mar': 8, 'aug': 3, 'sep': 7, 'apr': 4, 'jun': 1, 'jul': 0, 'may': 5, 'nov': 2, 'dec': 9, 'oct': 6}\n",
      "{'unknown': 2, 'yes': 1, 'no': 0}\n"
     ]
    }
   ],
   "source": [
    "mk_test = pd.read_csv('.....\\marketing_test.csv')\n",
    "mk_test.drop(mk_test.columns[[0, 1, 4, 10]], axis=1, inplace=True)\n",
    "all_cols = set(list(mk_test))\n",
    "numeric_cols = set(['campaign','pdays','previous','emp.var.rate','cons.price.idx','cons.conf.idx','euribor3m','nr.employed','pmonths','pastEmail'])\n",
    "col_names = list(all_cols - numeric_cols)\n",
    "\n",
    "print col_names\n",
    "\n",
    "\n",
    "for col in col_names:\n",
    "    categories = mk_test[col].unique()\n",
    "    dic = {}\n",
    "    i = 0\n",
    "    for category in categories:\n",
    "        dic[category] = i\n",
    "        i = i+1\n",
    "    print dic\n",
    "    \n",
    "    def transtonum(x):\n",
    "        x[col] = dic[x[col]]\n",
    "        return x\n",
    "    \n",
    "    mk_test = mk_test.apply(transtonum, axis =1)    \n",
    "\n",
    "mk = mk_test.copy()\n"
   ]
  },
  {
   "cell_type": "code",
   "execution_count": 37,
   "metadata": {
    "collapsed": false
   },
   "outputs": [],
   "source": [
    "x_test = mk.as_matrix()\n",
    "ans= clf.predict(x_test) "
   ]
  },
  {
   "cell_type": "code",
   "execution_count": 38,
   "metadata": {
    "collapsed": false
   },
   "outputs": [],
   "source": [
    "dic = {0:'no', 1:'yes'}\n",
    "pred = []\n",
    "for a in ans:\n",
    "    pred.append(dic[a])\n"
   ]
  },
  {
   "cell_type": "code",
   "execution_count": 39,
   "metadata": {
    "collapsed": false
   },
   "outputs": [],
   "source": [
    "df = pd.DataFrame(data = ans[0:])"
   ]
  },
  {
   "cell_type": "code",
   "execution_count": 40,
   "metadata": {
    "collapsed": false
   },
   "outputs": [],
   "source": [
    "df.to_csv('....\\marketing_test.csv')# saving to csv file"
   ]
  },
  {
   "cell_type": "code",
   "execution_count": null,
   "metadata": {
    "collapsed": true
   },
   "outputs": [],
   "source": []
  }
 ],
 "metadata": {
  "celltoolbar": "Raw Cell Format",
  "kernelspec": {
   "display_name": "Python 2",
   "language": "python",
   "name": "python2"
  },
  "language_info": {
   "codemirror_mode": {
    "name": "ipython",
    "version": 2
   },
   "file_extension": ".py",
   "mimetype": "text/x-python",
   "name": "python",
   "nbconvert_exporter": "python",
   "pygments_lexer": "ipython2",
   "version": "2.7.11"
  }
 },
 "nbformat": 4,
 "nbformat_minor": 0
}
